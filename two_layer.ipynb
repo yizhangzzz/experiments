{
 "cells": [
  {
   "cell_type": "code",
   "execution_count": 280,
   "metadata": {},
   "outputs": [],
   "source": [
    "import torch\n",
    "from torch import autograd\n",
    "import torch.nn\n",
    "import numpy\n",
    "import matplotlib\n",
    "from matplotlib import pyplot as plt\n",
    "%matplotlib inline"
   ]
  },
  {
   "cell_type": "code",
   "execution_count": 342,
   "metadata": {},
   "outputs": [],
   "source": [
    "N = 1000\n",
    "d_x = 10\n",
    "h = 5\n",
    "d_y = 10"
   ]
  },
  {
   "cell_type": "code",
   "execution_count": 351,
   "metadata": {},
   "outputs": [],
   "source": [
    "X = torch.rand(N, d_x) * 2 -1\n",
    "W = torch.randn(d_x, d_y)\n",
    "Y = X @ W\n",
    "\n",
    "\n",
    "class LinearNet(torch.nn.Module):\n",
    "    def __init__(self, d_x, h, d_y):\n",
    "        # autoregressive model of order k\n",
    "        super(LinearNet, self).__init__()\n",
    "        self.A = torch.nn.Parameter(torch.randn(h, d_y))\n",
    "        self.B = torch.nn.Parameter(torch.randn(d_x, h))\n",
    "        #self.A.requires_grad = True\n",
    "        #self.B.requires_grad = True\n",
    "    \n",
    "    def forward(self, input):\n",
    "        return input @ self.B @ self.A\n",
    "\n",
    "def compute_loss(X, Y, model):\n",
    "    return torch.nn.functional.mse_loss(model(X), Y, reduction='sum') * 0.5 / X.size(0)\n",
    "\n",
    "def eval_grad(X, Y, model):\n",
    "    model.zero_grad()\n",
    "    loss = compute_loss(X,Y,model)\n",
    "    loss.backward()\n",
    "    grad_A = model.A.grad.data\n",
    "    grad_B = model.B.grad.data\n",
    "    return torch.cat([grad_A.view(-1), grad_B.view(-1)])\n",
    "\n",
    "\n",
    "# eval Hessian matrix\n",
    "def eval_hessian(X, Y, model):\n",
    "    loss = compute_loss(X, Y, model)\n",
    "    loss_grad = autograd.grad(loss, model.parameters(), create_graph=True)\n",
    "    cnt = 0\n",
    "    for g in loss_grad:\n",
    "        g_vector = g.contiguous().view(-1) if cnt == 0 else torch.cat([g_vector, g.contiguous().view(-1)])\n",
    "        cnt = 1\n",
    "    l = g_vector.size(0)\n",
    "    hessian = torch.zeros(l, l)\n",
    "    for idx in range(l):\n",
    "        grad2rd = autograd.grad(g_vector[idx], model.parameters(), create_graph=True)\n",
    "        cnt = 0\n",
    "        for g in grad2rd:\n",
    "            g2 = g.contiguous().view(-1) if cnt == 0 else torch.cat([g2, g.contiguous().view(-1)])\n",
    "            cnt = 1\n",
    "        hessian[idx] = g2\n",
    "    return hessian.data\n",
    "\n",
    "model = LinearNet(d_x, h, d_y)"
   ]
  },
  {
   "cell_type": "code",
   "execution_count": null,
   "metadata": {},
   "outputs": [],
   "source": []
  },
  {
   "cell_type": "code",
   "execution_count": 352,
   "metadata": {},
   "outputs": [
    {
     "name": "stdout",
     "output_type": "stream",
     "text": [
      "tensor([ 0.0280,  0.1337,  0.3934,  0.7907,  2.0025,  3.4378,  4.0731,  4.5526,\n",
      "         7.3233, 11.4486])\n"
     ]
    }
   ],
   "source": [
    "Sigma_XX = X.t() @ X / X.size(0)\n",
    "Sigma_YX = Y.t() @ X / X.size(0)\n",
    "\n",
    "Sigma = Sigma_YX @ torch.inverse(Sigma_XX) @ Sigma_YX.t()\n",
    "s, U = torch.symeig(Sigma, eigenvectors=True)\n",
    "print(s)"
   ]
  },
  {
   "cell_type": "code",
   "execution_count": 353,
   "metadata": {},
   "outputs": [],
   "source": [
    "indices = torch.LongTensor([1,2,3,4,5])\n",
    "U_hat = torch.index_select(U, dim=1, index=indices)\n",
    "model.A.data = U_hat.t()\n",
    "model.B.data = torch.inverse(Sigma_XX) @ Sigma_YX.t() @ U_hat"
   ]
  },
  {
   "cell_type": "code",
   "execution_count": 354,
   "metadata": {},
   "outputs": [
    {
     "data": {
      "text/plain": [
       "tensor(2.5235e-06)"
      ]
     },
     "execution_count": 354,
     "metadata": {},
     "output_type": "execute_result"
    }
   ],
   "source": [
    "eval_grad(X, Y, model).norm()"
   ]
  },
  {
   "cell_type": "code",
   "execution_count": 355,
   "metadata": {},
   "outputs": [],
   "source": [
    "H = eval_hessian(X, Y, model)"
   ]
  },
  {
   "cell_type": "code",
   "execution_count": 356,
   "metadata": {},
   "outputs": [
    {
     "data": {
      "text/plain": [
       "tensor(-1.6968)"
      ]
     },
     "execution_count": 356,
     "metadata": {},
     "output_type": "execute_result"
    }
   ],
   "source": [
    "torch.symeig(H)[0].min()"
   ]
  },
  {
   "cell_type": "code",
   "execution_count": 359,
   "metadata": {},
   "outputs": [
    {
     "name": "stdout",
     "output_type": "stream",
     "text": [
      "0.09891105472979152\n"
     ]
    }
   ],
   "source": [
    "s_H, U_H = torch.symeig(H, eigenvectors=True)\n",
    "v = U_H[:, 0].unsqueeze(1)\n",
    "\n",
    "corr = 0\n",
    "batch_size = 10\n",
    "n_batches = N / batch_size\n",
    "Sigma_g = 0\n",
    "for i in range(0, N, batch_size):\n",
    "    x, y = X[i:i+batch_size, :], Y[i:i+batch_size, :]\n",
    "    g = eval_grad(x, y, model).unsqueeze(1)\n",
    "    corr += (g.t() @ v).item()**2 / n_batches\n",
    "    Sigma_g += g @ g.t() / n_batches\n",
    "\n",
    "print(corr)\n",
    "s_g, _ = torch.symeig(Sigma_g)"
   ]
  },
  {
   "cell_type": "code",
   "execution_count": 360,
   "metadata": {},
   "outputs": [
    {
     "data": {
      "text/plain": [
       "tensor([-2.3906e-07, -1.7494e-07, -1.4929e-07, -1.0468e-07, -1.0066e-07,\n",
       "        -7.7774e-08, -7.0437e-08, -5.3709e-08, -4.9904e-08, -4.5665e-08,\n",
       "        -3.8384e-08, -3.4583e-08, -3.0678e-08, -2.0996e-08, -1.5755e-08,\n",
       "        -1.3425e-08, -1.1622e-08, -8.0070e-09, -5.6599e-09, -2.5137e-09,\n",
       "        -2.0455e-09, -1.4807e-09, -1.7743e-10, -1.5230e-10, -1.3000e-14,\n",
       "        -6.2604e-15, -4.5505e-15, -3.4909e-15, -1.8968e-15, -1.0655e-15,\n",
       "        -2.8005e-16, -4.5582e-17,  8.4531e-16,  1.3600e-15,  1.6731e-15,\n",
       "         2.0102e-15,  2.2287e-15,  2.7159e-15,  3.1691e-15,  4.2579e-15,\n",
       "         4.7102e-15,  5.2120e-15,  5.2915e-15,  7.1228e-15,  8.1337e-15,\n",
       "         9.6185e-15,  1.1578e-14,  1.4265e-14,  1.1825e-13,  1.5516e-11,\n",
       "         2.8647e-10,  9.7321e-10,  1.2821e-09,  1.9528e-09,  4.5618e-09,\n",
       "         5.1062e-09,  5.7166e-09,  7.1300e-09,  1.0208e-08,  1.2594e-08,\n",
       "         1.3892e-08,  1.7552e-08,  1.8469e-08,  2.1486e-08,  2.8210e-08,\n",
       "         3.2055e-08,  3.3710e-08,  4.1189e-08,  5.0190e-08,  6.0732e-08,\n",
       "         6.8270e-08,  8.5899e-08,  1.0172e-07,  1.5851e-07,  4.9905e-07,\n",
       "         3.2233e-04,  8.1726e-04,  1.9157e-03,  3.9406e-03,  7.9441e-03,\n",
       "         3.5579e-02,  4.2846e-02,  6.3321e-02,  1.0578e-01,  1.4421e-01,\n",
       "         1.5883e-01,  1.7168e-01,  2.3884e-01,  2.9382e-01,  4.1574e-01,\n",
       "         4.5812e-01,  6.5803e-01,  7.4838e-01,  8.4464e-01,  1.0908e+00,\n",
       "         1.2678e+00,  1.3812e+00,  1.5777e+00,  2.0372e+00,  3.8588e+00])"
      ]
     },
     "execution_count": 360,
     "metadata": {},
     "output_type": "execute_result"
    }
   ],
   "source": [
    "s_g"
   ]
  },
  {
   "cell_type": "code",
   "execution_count": null,
   "metadata": {},
   "outputs": [],
   "source": []
  },
  {
   "cell_type": "code",
   "execution_count": null,
   "metadata": {},
   "outputs": [],
   "source": []
  }
 ],
 "metadata": {
  "kernelspec": {
   "display_name": "Python 3",
   "language": "python",
   "name": "python3"
  },
  "language_info": {
   "codemirror_mode": {
    "name": "ipython",
    "version": 3
   },
   "file_extension": ".py",
   "mimetype": "text/x-python",
   "name": "python",
   "nbconvert_exporter": "python",
   "pygments_lexer": "ipython3",
   "version": "3.6.5"
  }
 },
 "nbformat": 4,
 "nbformat_minor": 2
}
